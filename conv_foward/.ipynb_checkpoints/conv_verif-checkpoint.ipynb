{
 "cells": [
  {
   "cell_type": "code",
   "execution_count": 2,
   "metadata": {},
   "outputs": [],
   "source": [
    "import tensorflow as tf\n",
    "import numpy as np"
   ]
  },
  {
   "cell_type": "code",
   "execution_count": null,
   "metadata": {},
   "outputs": [
    {
     "name": "stdout",
     "output_type": "stream",
     "text": [
      "(1, 5, 5, 1)\n",
      "(3, 3, 1, 2)\n",
      "WARNING:tensorflow:From <ipython-input-3-ed7fd3812836>:9: conv2d (from tensorflow.python.layers.convolutional) is deprecated and will be removed in a future version.\n",
      "Instructions for updating:\n",
      "Use keras.layers.conv2d instead.\n",
      "WARNING:tensorflow:From /usr/local/lib/python3.6/dist-packages/tensorflow/python/framework/op_def_library.py:263: colocate_with (from tensorflow.python.framework.ops) is deprecated and will be removed in a future version.\n",
      "Instructions for updating:\n",
      "Colocations handled automatically by placer.\n"
     ]
    }
   ],
   "source": [
    "img = [[[[1.0],[2.0],[3.0],[1.0],[2.0]],[[3.0],[1.0],[2.0],[3.0],[1.0]],[[2.0],[3.0],[1.0],[2.0],[3.0]],[[1.0],[2.0],[3.0],[1.0],[2.0]],[[3.0],[1.0],[2.0],[3.0],[4.0]]]]\n",
    "img = np.asarray(img)\n",
    "w = [[[[1.0,1.0]],[[1.0,1.0]],[[1.0,1.0]]],[[[1.0,1.0]],[[1.0,1.0]],[[1.0,1.0]]],[[[1.0,1.0]],[[1.0,1.0]],[[1.0,1.0]]]]\n",
    "w = np.asarray(w)\n",
    "b = np.asarray([0.5,0.5])\n",
    "print(img.shape)\n",
    "print(w.shape)\n",
    "image = tf.placeholder('float',[1,5,5,1],name = 'inputs')\n",
    "out_s = tf.layers.conv2d(image,2,3,padding='same',kernel_initializer=tf.constant_initializer(w),bias_initializer=tf.constant_initializer(b),name = 'conv2d_smae')\n",
    "out_v = tf.layers.conv2d(image,2,3,kernel_initializer=tf.constant_initializer(w),bias_initializer=tf.constant_initializer(b),name = 'conv2d_valid')\n",
    "config = tf.ConfigProto()\n",
    "config.gpu_options.allow_growth = True\n",
    "with tf.Session(config = config) as sess:\n",
    "    sess.run(tf.global_variables_initializer())\n",
    "    output_v,output_s = sess.run([out_v,out_s],feed_dict = {image: img})\n",
    "    print(output_v)\n",
    "    print(output_s)"
   ]
  }
 ],
 "metadata": {
  "kernelspec": {
   "display_name": "Python 3",
   "language": "python",
   "name": "python3"
  },
  "language_info": {
   "codemirror_mode": {
    "name": "ipython",
    "version": 3
   },
   "file_extension": ".py",
   "mimetype": "text/x-python",
   "name": "python",
   "nbconvert_exporter": "python",
   "pygments_lexer": "ipython3",
   "version": "3.6.8"
  }
 },
 "nbformat": 4,
 "nbformat_minor": 2
}
